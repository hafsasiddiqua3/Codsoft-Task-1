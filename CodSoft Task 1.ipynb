{
 "cells": [
  {
   "cell_type": "markdown",
   "id": "e99a517a",
   "metadata": {},
   "source": [
    "# TASK 1 : TO-DO LIST"
   ]
  },
  {
   "cell_type": "code",
   "execution_count": null,
   "id": "049c561c",
   "metadata": {},
   "outputs": [
    {
     "name": "stdout",
     "output_type": "stream",
     "text": [
      "\n",
      "TO-DO LIST\n",
      "\n",
      "No tasks found.\n",
      "\n",
      "Options:\n",
      "1. Add Task\n",
      "2. Remove Task\n",
      "3. Quit\n"
     ]
    }
   ],
   "source": [
    "import json\n",
    "import os\n",
    "from datetime import datetime\n",
    "\n",
    "def load_tasks():\n",
    "    try:\n",
    "        with open('tasks.json', 'r') as file:\n",
    "            tasks = json.load(file)\n",
    "    except FileNotFoundError:\n",
    "        tasks = []\n",
    "    return tasks\n",
    "\n",
    "def save_tasks(tasks):\n",
    "    with open('tasks.json', 'w') as file:\n",
    "        json.dump(tasks, file)\n",
    "\n",
    "def display_tasks(tasks):\n",
    "    if not tasks:\n",
    "        print(\"No tasks found.\")\n",
    "    else:\n",
    "        for index, task in enumerate(tasks, start=1):\n",
    "            print(f\"{index}. {task['title']} - {task['date']}\")\n",
    "\n",
    "def add_task(title):\n",
    "    tasks = load_tasks()\n",
    "    date = datetime.now().strftime(\"%Y-%m-%d %H:%M:%S\")\n",
    "    tasks.append({'title': title, 'date': date})\n",
    "    save_tasks(tasks)\n",
    "    print(f\"Task '{title}' added successfully!\")\n",
    "\n",
    "def remove_task(index):\n",
    "    tasks = load_tasks()\n",
    "    if 1 <= index <= len(tasks):\n",
    "        removed_task = tasks.pop(index - 1)\n",
    "        save_tasks(tasks)\n",
    "        print(f\"Task '{removed_task['title']}' removed successfully!\")\n",
    "    else:\n",
    "        print(\"Invalid task index.\")\n",
    "\n",
    "def main():\n",
    "    while True:\n",
    "        print(\"\\nTO-DO LIST\\n\")\n",
    "        tasks = load_tasks()\n",
    "        display_tasks(tasks)\n",
    "\n",
    "        print(\"\\nOptions:\")\n",
    "        print(\"1. Add Task\")\n",
    "        print(\"2. Remove Task\")\n",
    "        print(\"3. Quit\")\n",
    "\n",
    "        choice = input(\"Enter your choice (1/2/3): \")\n",
    "\n",
    "        if choice == '1':\n",
    "            title = input(\"Enter task title: \")\n",
    "            add_task(title)\n",
    "        elif choice == '2':\n",
    "            index = int(input(\"Enter task index to remove: \"))\n",
    "            remove_task(index)\n",
    "        elif choice == '3':\n",
    "            print(\"Exiting the To-Do List application. Goodbye!\")\n",
    "            break\n",
    "        else:\n",
    "            print(\"Invalid choice. Please enter 1, 2, or 3.\")\n",
    "\n",
    "if __name__ == \"__main__\":\n",
    "    main()"
   ]
  },
  {
   "cell_type": "code",
   "execution_count": null,
   "id": "7b182e6f",
   "metadata": {},
   "outputs": [],
   "source": []
  }
 ],
 "metadata": {
  "kernelspec": {
   "display_name": "Python 3 (ipykernel)",
   "language": "python",
   "name": "python3"
  },
  "language_info": {
   "codemirror_mode": {
    "name": "ipython",
    "version": 3
   },
   "file_extension": ".py",
   "mimetype": "text/x-python",
   "name": "python",
   "nbconvert_exporter": "python",
   "pygments_lexer": "ipython3",
   "version": "3.11.5"
  }
 },
 "nbformat": 4,
 "nbformat_minor": 5
}
